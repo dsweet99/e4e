{
 "cells": [
  {
   "cell_type": "markdown",
   "metadata": {},
   "source": [
    "# Chapter 8: Practical considerations"
   ]
  },
  {
   "cell_type": "code",
   "execution_count": null,
   "metadata": {},
   "outputs": [],
   "source": [
    "import numpy as np\n",
    "import scipy\n",
    "import scipy.stats\n",
    "import matplotlib as mpl\n",
    "import matplotlib.pyplot as plt\n",
    "from e4e import E4E\n",
    "e4e = E4E(chapter=8)"
   ]
  },
  {
   "cell_type": "markdown",
   "metadata": {},
   "source": [
    "## 8.1\tViolation of statistical assumptions"
   ]
  },
  {
   "cell_type": "markdown",
   "metadata": {},
   "source": [
    "### 8.1.1\tViolation of the iid assumption"
   ]
  },
  {
   "cell_type": "markdown",
   "metadata": {},
   "source": [
    "#### INDEPENDENCE"
   ]
  },
  {
   "cell_type": "code",
   "execution_count": null,
   "metadata": {},
   "outputs": [],
   "source": [
    "ind_meas = np.array([1.5]*10)\n",
    "print (ind_meas)\n",
    "print (ind_meas.mean())\n",
    "print (ind_meas.std())"
   ]
  },
  {
   "cell_type": "code",
   "execution_count": null,
   "metadata": {},
   "outputs": [],
   "source": [
    "ind_meas = np.array([1.5]*8 + [2.3, 3.1])\n",
    "print (ind_meas)\n",
    "print (ind_meas.mean())\n",
    "print (ind_meas.std() / np.sqrt(10))"
   ]
  },
  {
   "cell_type": "code",
   "execution_count": null,
   "metadata": {},
   "outputs": [],
   "source": [
    "ind_meas = np.array([1.5, 2.3, 3.1])\n",
    "ind_meas.std() / np.sqrt(3)"
   ]
  },
  {
   "cell_type": "markdown",
   "metadata": {},
   "source": []
  },
  {
   "cell_type": "code",
   "execution_count": null,
   "metadata": {},
   "outputs": [],
   "source": [
    "# Listing 8.12 Simulate an A/B test and monitor the z score\n",
    "def z_score_vs_n():\n",
    "    def profit_A():\n",
    "        return np.random.uniform(0,1)\n",
    "    def profit_B():\n",
    "        return np.random.uniform(0,1)\n",
    "\n",
    "    z_scores = []\n",
    "    ind_measurements_A = []\n",
    "    ind_measurements_B = []\n",
    "    for n in range(1, 100):\n",
    "        ind_measurements_A.append(profit_A())\n",
    "        ind_measurements_B.append(profit_B())\n",
    "        a = np.array(ind_measurements_A)\n",
    "        b = np.array(ind_measurements_B)\n",
    "        delta = b.mean() - a.mean()\n",
    "        se_delta = np.sqrt(a.std()**2 + b.std()**2) / np.sqrt(n)\n",
    "        z_scores.append(delta / se_delta)\n",
    "    return np.array(z_scores)"
   ]
  },
  {
   "cell_type": "code",
   "execution_count": null,
   "metadata": {},
   "outputs": [],
   "source": [
    "def do_fig(seed):\n",
    "    np.random.seed(seed)\n",
    "    z = z_score_vs_n()\n",
    "    plt.plot(z, color=e4e.color_1);\n",
    "    e4e.horizontal_line(1.64)\n",
    "    e4e.horizontal_line(-1.64)\n",
    "    c = plt.axis()\n",
    "    cy = max(abs(c[2]), abs(c[3]))\n",
    "    plt.axis([c[0], c[1], -cy, cy])\n",
    "    print (np.where(z > 1.64))\n",
    "    plt.xlabel(\"individual measurement number (n)\")\n",
    "    plt.ylabel(\"z score\")\n",
    "do_fig(29)\n",
    "e4e.save_fig(1)"
   ]
  },
  {
   "cell_type": "code",
   "execution_count": null,
   "metadata": {},
   "outputs": [],
   "source": [
    "do_fig(39)\n",
    "e4e.save_fig(2)"
   ]
  },
  {
   "cell_type": "code",
   "execution_count": null,
   "metadata": {},
   "outputs": [],
   "source": [
    "def z_score_vs_n_fast(N):\n",
    "    a = np.random.uniform(size=(N,))\n",
    "    b = np.random.uniform(size=(N,))\n",
    "    N = np.arange(1, N+1)\n",
    "    sx = np.cumsum(b-a)\n",
    "    sxx = np.cumsum((b-a)**2)\n",
    "    mu = sx/N\n",
    "    sd = np.sqrt(sxx/N - mu**2)\n",
    "    z_score = np.sqrt(N) * mu/sd\n",
    "    return z_score\n",
    "\n",
    "def false_positive_rates(N):\n",
    "    num_ab_tests = 10000\n",
    "    fp_at_end = 0\n",
    "    fp_with_early_stopping = 0\n",
    "    for _ in range(num_ab_tests):\n",
    "        z = z_score_vs_n_fast(N) \n",
    "        if z[-1] > 1.64:\n",
    "            fp_at_end += 1\n",
    "        i = np.where(abs(z[1:]) > 1.64)[0]\n",
    "        if len(i) > 0:\n",
    "            fp_with_early_stopping += 1\n",
    "    return fp_at_end / num_ab_tests, fp_with_early_stopping / num_ab_tests\n",
    "        "
   ]
  },
  {
   "cell_type": "code",
   "execution_count": null,
   "metadata": {},
   "outputs": [],
   "source": [
    "np.random.seed(17); false_positive_rates(100)"
   ]
  },
  {
   "cell_type": "code",
   "execution_count": null,
   "metadata": {},
   "outputs": [],
   "source": [
    "np.random.seed(17)\n",
    "fpr = []\n",
    "for N in [10, 30, 100, 300, 1000, 3000, int(1e4)]:\n",
    "    fp_0, fp_N = false_positive_rates(N)\n",
    "    print (N, fp_0, fp_N)\n",
    "    fpr.append( (N, fp_0, fp_N)) "
   ]
  },
  {
   "cell_type": "code",
   "execution_count": null,
   "metadata": {},
   "outputs": [],
   "source": [
    "fpr = np.array(fpr)\n",
    "plt.semilogx(fpr[:,0], fpr[:,1], '-', color=e4e.color_1);\n",
    "plt.semilogx(fpr[:,0], fpr[:,2], '.--', color=e4e.color_2);\n",
    "plt.xlabel('N')\n",
    "plt.ylabel('false positive rate')\n",
    "plt.legend(['waiting until end', 'early stopping'])\n",
    "e4e.save_fig(3)"
   ]
  },
  {
   "cell_type": "markdown",
   "metadata": {},
   "source": [
    "## 8.3\tControl family-wise error"
   ]
  },
  {
   "cell_type": "markdown",
   "metadata": {},
   "source": [
    "### 8.3.1\tCherry-picking increases the false positive rate"
   ]
  },
  {
   "cell_type": "code",
   "execution_count": null,
   "metadata": {},
   "outputs": [],
   "source": [
    "M = np.arange(1, 30)\n",
    "plt.plot(M, 1 - .95**M, 'o--', color=e4e.color_1);\n",
    "plt.xlabel('M')\n",
    "plt.ylabel('p_any')\n",
    "e4e.save_fig(4)"
   ]
  },
  {
   "cell_type": "code",
   "execution_count": null,
   "metadata": {},
   "outputs": [],
   "source": [
    "plt.plot(M, 1 - .95**M, 'o--', color=e4e.color_1);\n",
    "plt.plot(M, 1 - (1-.05/M)**M, '.:', color=e4e.color_2);\n",
    "plt.xlabel('M')\n",
    "plt.ylabel('p_any')\n",
    "plt.legend(['family-wise false positive rate', 'family-wise false positive rate,\\nwith Bonferroni correction'])\n",
    "plt.axis([0, 17, 0, .6])\n",
    "e4e.save_fig(5)"
   ]
  },
  {
   "cell_type": "code",
   "execution_count": null,
   "metadata": {},
   "outputs": [],
   "source": [
    "import scipy.stats as ss\n",
    "z = ss.norm()\n",
    "\n",
    "\n",
    "vppf = np.vectorize(z.ppf)\n",
    "N = ((.84 + vppf(1-0.05/M)) )**2\n",
    "N = N / N[0]\n",
    "\n",
    "plt.plot(M, N, 'o--', color=e4e.color_1);\n",
    "plt.xlabel('M')\n",
    "plt.ylabel('N (relative)')\n",
    "e4e.save_fig(6)"
   ]
  },
  {
   "cell_type": "markdown",
   "metadata": {},
   "source": [
    "## 8.4\tBe aware of common biases"
   ]
  },
  {
   "cell_type": "markdown",
   "metadata": {},
   "source": [
    "### 8.4.1\tConfounder bias"
   ]
  },
  {
   "cell_type": "markdown",
   "metadata": {},
   "source": [
    "### 8.4.2\tSmall-sample bias"
   ]
  },
  {
   "cell_type": "markdown",
   "metadata": {},
   "source": [
    "### 8.4.3\tOptimism bias"
   ]
  },
  {
   "cell_type": "markdown",
   "metadata": {},
   "source": [
    "### 8.4.4\tExperimenter bias"
   ]
  }
 ],
 "metadata": {
  "language_info": {
   "name": "python",
   "pygments_lexer": "ipython3"
  }
 },
 "nbformat": 4,
 "nbformat_minor": 2
}
