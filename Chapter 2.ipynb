{
 "cells": [
  {
   "cell_type": "markdown",
   "metadata": {},
   "source": [
    "# Chapter 2: A/B testing: Evaluating a modification of your system "
   ]
  },
  {
   "cell_type": "code",
   "execution_count": null,
   "metadata": {},
   "outputs": [],
   "source": [
    "import numpy as np\n",
    "import scipy\n",
    "import scipy.stats\n",
    "import matplotlib as mpl\n",
    "import matplotlib.pyplot as plt\n",
    "from e4e import E4E\n",
    "\n",
    "e4e = E4E(chapter=2)"
   ]
  },
  {
   "cell_type": "markdown",
   "metadata": {},
   "source": [
    "## 2.1\tRun an ad hoc experiment"
   ]
  },
  {
   "cell_type": "markdown",
   "metadata": {},
   "source": [
    "### 2.1.1\tSimulate the trading system"
   ]
  },
  {
   "cell_type": "code",
   "execution_count": null,
   "metadata": {},
   "outputs": [],
   "source": [
    "# Listing 2.1 Simulate the trading system\n",
    "def trading_system(exchange):\n",
    "    if exchange == \"ASDAQ\":\n",
    "        execution_cost = 12\n",
    "    elif exchange == \"BYSE\":\n",
    "        execution_cost = 10\n",
    "    execution_cost += np.random.normal()\n",
    "    return execution_cost"
   ]
  },
  {
   "cell_type": "code",
   "execution_count": null,
   "metadata": {},
   "outputs": [],
   "source": [
    "np.random.seed(17)\n",
    "trading_system(\"ASDAQ\")"
   ]
  },
  {
   "cell_type": "markdown",
   "metadata": {},
   "source": [
    "### 2.1.2\tCompare execution costs"
   ]
  },
  {
   "cell_type": "code",
   "execution_count": null,
   "metadata": {},
   "outputs": [],
   "source": [
    "np.random.seed(17)\n",
    "print(trading_system(\"ASDAQ\"))\n",
    "print(trading_system(\"BYSE\"))"
   ]
  },
  {
   "cell_type": "code",
   "execution_count": null,
   "metadata": {},
   "outputs": [],
   "source": [
    "np.random.seed(18)\n",
    "print(trading_system(\"ASDAQ\"))\n",
    "print(trading_system(\"BYSE\"))"
   ]
  },
  {
   "cell_type": "markdown",
   "metadata": {},
   "source": [
    "#### Variation"
   ]
  },
  {
   "cell_type": "code",
   "execution_count": null,
   "metadata": {},
   "outputs": [],
   "source": [
    "np.random.seed(17)\n",
    "a = np.array([trading_system(\"ASDAQ\") for _ in range(1000)])\n",
    "b = np.array([trading_system(\"BYSE\") for _ in range(1000)])\n",
    "plt.hist(a, 25, color=e4e.color_1)\n",
    "plt.hist(b, 25, color=e4e.color_2)\n",
    "plt.legend([\"ASDAQ\", \"BYSE\"])\n",
    "plt.xlabel(\"execution cost (mips)\")\n",
    "e4e.save_fig(2)"
   ]
  },
  {
   "cell_type": "code",
   "execution_count": null,
   "metadata": {},
   "outputs": [],
   "source": [
    "i = np.where(b < a)[0]\n",
    "len(i) / len(b)"
   ]
  },
  {
   "cell_type": "code",
   "execution_count": null,
   "metadata": {},
   "outputs": [],
   "source": [
    "np.random.seed(17)\n",
    "print(np.array([trading_system(\"ASDAQ\") for _ in range(100)]).mean())\n",
    "print(np.array([trading_system(\"BYSE\") for _ in range(100)]).mean())"
   ]
  },
  {
   "cell_type": "code",
   "execution_count": null,
   "metadata": {},
   "outputs": [],
   "source": [
    "print(np.array([trading_system(\"ASDAQ\") for _ in range(100)]).mean())\n",
    "print(np.array([trading_system(\"BYSE\") for _ in range(100)]).mean())"
   ]
  },
  {
   "cell_type": "markdown",
   "metadata": {},
   "source": [
    "#### Bias"
   ]
  },
  {
   "cell_type": "code",
   "execution_count": null,
   "metadata": {},
   "outputs": [],
   "source": [
    "# Listing 2.2 A simulator that accounts for time of day\n",
    "def trading_system_tod(exchange, time_of_day):\n",
    "    if time_of_day == \"morning\":\n",
    "        bias = 2.5\n",
    "    elif time_of_day == \"afternoon\":\n",
    "        bias = 0\n",
    "    return bias + trading_system(exchange)"
   ]
  },
  {
   "cell_type": "code",
   "execution_count": null,
   "metadata": {},
   "outputs": [],
   "source": [
    "np.random.seed(17)\n",
    "print(np.array([trading_system_tod(\"ASDAQ\", \"morning\") for _ in range(100)]).mean())\n",
    "print(np.array([trading_system_tod(\"ASDAQ\", \"afternoon\") for _ in range(100)]).mean())"
   ]
  },
  {
   "cell_type": "code",
   "execution_count": null,
   "metadata": {},
   "outputs": [],
   "source": [
    "np.random.seed(17)\n",
    "print(np.array([trading_system_tod(\"BYSE\", \"morning\") for _ in range(100)]).mean())\n",
    "print(np.array([trading_system_tod(\"ASDAQ\", \"afternoon\") for _ in range(100)]).mean())"
   ]
  },
  {
   "cell_type": "code",
   "execution_count": null,
   "metadata": {},
   "outputs": [],
   "source": [
    "print(np.array([trading_system_tod(\"BYSE\", \"morning\") for _ in range(1000)]).mean())\n",
    "print(np.array([trading_system_tod(\"ASDAQ\", \"afternoon\") for _ in range(1000)]).mean())"
   ]
  },
  {
   "cell_type": "code",
   "execution_count": null,
   "metadata": {},
   "outputs": [],
   "source": [
    "# Listing 2.3 A randomized measurement\n",
    "def randomized_measurement():\n",
    "    asdaq_measurement = []\n",
    "    byse_measurement = []\n",
    "    for tod in [\"morning\", \"afternoon\"]:\n",
    "        for _ in range(100):\n",
    "            if np.random.randint(2) == 0:\n",
    "                asdaq_measurement.append(trading_system_tod(\"ASDAQ\", tod))\n",
    "            else:\n",
    "                byse_measurement.append(trading_system_tod(\"BYSE\", tod))\n",
    "    return (np.array(asdaq_measurement).mean(), \n",
    "            np.array(byse_measurement).mean())"
   ]
  },
  {
   "cell_type": "code",
   "execution_count": null,
   "metadata": {},
   "outputs": [],
   "source": [
    "np.random.seed(17)\n",
    "randomized_measurement()"
   ]
  },
  {
   "cell_type": "markdown",
   "metadata": {},
   "source": [
    "## 2.2\tTake a precise measurement"
   ]
  },
  {
   "cell_type": "markdown",
   "metadata": {},
   "source": [
    "### 2.2.1\tMitigate measurement variation with replication"
   ]
  },
  {
   "cell_type": "code",
   "execution_count": null,
   "metadata": {},
   "outputs": [],
   "source": [
    "np.random.seed(17)\n",
    "measurements = np.array([trading_system(\"ASDAQ\") for _ in range(3)])\n",
    "print(measurements)"
   ]
  },
  {
   "cell_type": "code",
   "execution_count": null,
   "metadata": {},
   "outputs": [],
   "source": [
    "measurements.mean()"
   ]
  },
  {
   "cell_type": "code",
   "execution_count": null,
   "metadata": {},
   "outputs": [],
   "source": [
    "print(measurements - 12)"
   ]
  },
  {
   "cell_type": "code",
   "execution_count": null,
   "metadata": {},
   "outputs": [],
   "source": [
    "measurements.mean() - 12"
   ]
  },
  {
   "cell_type": "code",
   "execution_count": null,
   "metadata": {},
   "outputs": [],
   "source": [
    "np.sqrt(((measurements - 12) ** 2).mean())"
   ]
  },
  {
   "cell_type": "code",
   "execution_count": null,
   "metadata": {},
   "outputs": [],
   "source": [
    "np.sqrt(((measurements - measurements.mean()) ** 2).mean())"
   ]
  },
  {
   "cell_type": "code",
   "execution_count": null,
   "metadata": {},
   "outputs": [],
   "source": [
    "measurements.std()"
   ]
  },
  {
   "cell_type": "code",
   "execution_count": null,
   "metadata": {},
   "outputs": [],
   "source": [
    "# Listing 2.4 Aggregate measurement\n",
    "def aggregate_measurement(exchange, num_individual_measurements):\n",
    "    individual_measurements = np.array(\n",
    "        [trading_system(exchange) for _ in range(num_individual_measurements)]\n",
    "    )\n",
    "    return individual_measurements.mean()"
   ]
  },
  {
   "cell_type": "code",
   "execution_count": null,
   "metadata": {},
   "outputs": [],
   "source": [
    "plt.hist(np.array([trading_system(\"ASDAQ\") for _ in range(1000)]), color=e4e.color_1)\n",
    "plt.hist(\n",
    "    np.array([aggregate_measurement(\"ASDAQ\", 3) for _ in range(1000)]), color=e4e.color_2\n",
    ")\n",
    "plt.xlabel(\"execution cost (mps)\")\n",
    "print(plt.axis())\n",
    "plt.legend([\"individual\", \"aggregate of 3\"])\n",
    "e4e.save_fig(3)"
   ]
  },
  {
   "cell_type": "code",
   "execution_count": null,
   "metadata": {},
   "outputs": [],
   "source": [
    "plt.hist(np.array([trading_system(\"ASDAQ\") for _ in range(1000)]), color=e4e.color_1)\n",
    "plt.hist(\n",
    "    np.array([aggregate_measurement(\"ASDAQ\", 3) for _ in range(1000)]), color=e4e.color_2\n",
    ")\n",
    "plt.hist(\n",
    "    np.array([aggregate_measurement(\"ASDAQ\", 30) for _ in range(1000)]), color=e4e.color_3\n",
    ")\n",
    "plt.hist(\n",
    "    np.array([aggregate_measurement(\"ASDAQ\", 300) for _ in range(1000)]), color=e4e.color_4\n",
    ")\n",
    "plt.xlabel(\"execution cost (mps)\")\n",
    "plt.legend([\"individual\", \"aggregate of 3\", \"aggregate of 30\", \"aggregate of 300\"])\n",
    "e4e.save_fig(4)"
   ]
  },
  {
   "cell_type": "code",
   "execution_count": null,
   "metadata": {},
   "outputs": [],
   "source": [
    "np.random.seed(17)\n",
    "print(aggregate_measurement(\"ASDAQ\", 300))\n",
    "print(aggregate_measurement(\"BYSE\", 300))"
   ]
  },
  {
   "cell_type": "code",
   "execution_count": null,
   "metadata": {},
   "outputs": [],
   "source": [
    "print(aggregate_measurement(\"ASDAQ\", 300))\n",
    "print(aggregate_measurement(\"BYSE\", 300))"
   ]
  },
  {
   "cell_type": "code",
   "execution_count": null,
   "metadata": {},
   "outputs": [],
   "source": [
    "plt.hist(\n",
    "    np.array([aggregate_measurement(\"ASDAQ\", 300) for _ in range(1000)]), color=e4e.color_1\n",
    ")\n",
    "plt.hist(\n",
    "    np.array([aggregate_measurement(\"BYSE\", 300) for _ in range(1000)]), color=e4e.color_2\n",
    ")\n",
    "\n",
    "# (6.6141395990492065, 13.526618148811357, 0.0, 270.9)\n",
    "c = plt.axis()\n",
    "plt.axis([6.614, 13.52, c[2], c[3]])\n",
    "\n",
    "plt.xlabel(\"execution cost (mps)\")\n",
    "\n",
    "plt.legend([\"ASDAQ\", \"BYSE\"])\n",
    "e4e.save_fig(5)"
   ]
  },
  {
   "cell_type": "code",
   "execution_count": null,
   "metadata": {},
   "outputs": [],
   "source": [
    "np.random.seed(17)\n",
    "agg_3 = np.array([aggregate_measurement(\"ASDAQ\", 3) for _ in range(1000)])\n",
    "agg_30 = np.array([aggregate_measurement(\"ASDAQ\", 30) for _ in range(1000)])\n",
    "agg_300 = np.array([aggregate_measurement(\"ASDAQ\", 300) for _ in range(1000)])\n",
    "\n",
    "print(agg_3.std(), agg_30.std(), agg_300.std())"
   ]
  },
  {
   "cell_type": "code",
   "execution_count": null,
   "metadata": {},
   "outputs": [],
   "source": [
    "# Listing 2.5 Aggregate measurement with SE\n",
    "def aggregate_measurement_with_se(exchange, num_individual_measurements):\n",
    "    individual_measurements = np.array(\n",
    "        [trading_system(exchange) for _ in range(num_individual_measurements)]\n",
    "    )\n",
    "    aggregate_measurement = individual_measurements.mean()\n",
    "    sd_1 = individual_measurements.std()\n",
    "    se = sd_1 / np.sqrt(num_individual_measurements)\n",
    "    return aggregate_measurement, se"
   ]
  },
  {
   "cell_type": "code",
   "execution_count": null,
   "metadata": {},
   "outputs": [],
   "source": [
    "np.random.seed(17)\n",
    "print(aggregate_measurement_with_se(\"ASDAQ\", 300))\n",
    "print(aggregate_measurement_with_se(\"BYSE\", 300))"
   ]
  },
  {
   "cell_type": "code",
   "execution_count": null,
   "metadata": {},
   "outputs": [],
   "source": [
    "10.05 + 0.057"
   ]
  },
  {
   "cell_type": "code",
   "execution_count": null,
   "metadata": {},
   "outputs": [],
   "source": [
    "12.00 - 0.060"
   ]
  },
  {
   "cell_type": "markdown",
   "metadata": {},
   "source": [
    "# 2.2\tRun an A/B test"
   ]
  },
  {
   "cell_type": "code",
   "execution_count": null,
   "metadata": {},
   "outputs": [],
   "source": [
    "np.random.seed(17)\n",
    "plt.hist(\n",
    "    np.array([aggregate_measurement_with_se(\"ASDAQ\", 10)[0] for _ in range(1000)]),\n",
    "    20,\n",
    "    color=e4e.color_1,\n",
    ")\n",
    "plt.xlabel(\"potential ASDAQ\\naggregate measurement\\nvalues (mips)\")\n",
    "e4e.vertical_line(102 + 10)\n",
    "plt.annotate(\n",
    "    \"actual\\naggregate\\nmeasurement\",\n",
    "    xy=[112.3, 90],\n",
    "    xytext=[120, 110],\n",
    "    arrowprops=e4e.arrow_props,\n",
    ")\n",
    "e4e.save_fig(7)"
   ]
  },
  {
   "cell_type": "code",
   "execution_count": null,
   "metadata": {},
   "outputs": [],
   "source": [
    "np.random.seed(17)\n",
    "num_individual_measurements = 10\n",
    "agg_asdaq, se_asdaq = aggregate_measurement_with_se(\"ASDAQ\", num_individual_measurements)\n",
    "agg_byse, se_byse = aggregate_measurement_with_se(\"BYSE\", num_individual_measurements)\n",
    "delta = agg_byse - agg_asdaq\n",
    "se_delta = np.sqrt(se_byse**2 + se_asdaq**2)"
   ]
  },
  {
   "cell_type": "code",
   "execution_count": null,
   "metadata": {},
   "outputs": [],
   "source": [
    "z = np.random.normal(size=(10000,))\n",
    "plt.hist(z, 30, color=e4e.color_1)\n",
    "plt.xlabel(\"z\")\n",
    "e4e.vertical_line(-1.64)\n",
    "plt.annotate(\"5%\", xy=[-2.25, 112], xytext=[-3, 600], arrowprops=e4e.arrow_props)\n",
    "\n",
    "e4e.save_fig(8)"
   ]
  },
  {
   "cell_type": "markdown",
   "metadata": {},
   "source": [
    "### 2.3.2\tDesign the A/B test"
   ]
  },
  {
   "cell_type": "code",
   "execution_count": null,
   "metadata": {},
   "outputs": [],
   "source": [
    "# Listing 2.6 A/B test design\n",
    "def ab_test_design(sd_1_delta, prac_sig):\n",
    "    num_individual_measurements = (1.64 * sd_1_delta / prac_sig) ** 2\n",
    "    return np.ceil(num_individual_measurements)"
   ]
  },
  {
   "cell_type": "code",
   "execution_count": null,
   "metadata": {},
   "outputs": [],
   "source": [
    "np.random.seed(17)\n",
    "sd_1_asdaq = np.array([trading_system(\"ASDAQ\") for _ in range(100)]).std()\n",
    "sd_1_byse = sd_1_asdaq\n",
    "sd_1_delta = np.sqrt(sd_1_asdaq**2 + sd_1_byse**2)\n",
    "prac_sig = 1.0\n",
    "ab_test_design(sd_1_delta, prac_sig)"
   ]
  },
  {
   "cell_type": "markdown",
   "metadata": {},
   "source": [
    "#### False negatives"
   ]
  },
  {
   "cell_type": "code",
   "execution_count": null,
   "metadata": {},
   "outputs": [],
   "source": [
    "fig, (ax1, ax2) = plt.subplots(1, 2)\n",
    "\n",
    "z = np.random.normal(size=(10000,))\n",
    "ax1.hist(z, 30, color=e4e.color_1)\n",
    "ax1.set_xlabel(\"z\")\n",
    "e4e.vertical_line(-1.64, ax=ax1)\n",
    "\n",
    "ax1.annotate(\"5%\", xy=[-2.25, 112], xytext=[-3.7, 600], arrowprops=e4e.arrow_props)\n",
    "\n",
    "ax1.text(-3.5, 900, \"(a)\")\n",
    "e4e.aspect_square(ax1)\n",
    "\n",
    "\n",
    "z = np.random.normal(size=(10000,))\n",
    "ax2.hist(z, 30, color=e4e.color_1, alpha=0.5)\n",
    "ax2.set_xlabel(\"z\")\n",
    "e4e.vertical_line(-1.64, clr=e4e.color_1, ax=ax2)\n",
    "ax2.annotate(\"5%\", xy=[-2.25, 112], xytext=[-6, 600], arrowprops=e4e.arrow_props)\n",
    "\n",
    "ax2.annotate(\"20%\", xy=[0, 112], xytext=[3, 600], arrowprops=e4e.arrow_props)\n",
    "ax2.hist(-(1.64 + 0.84) + z, 30, color=e4e.color_2, alpha=0.5)\n",
    "c = ax2.axis()\n",
    "ax2.axis([-8, 5.5, 0, c[3]])\n",
    "ax2.text(-7, 800, \"(b)\")\n",
    "e4e.aspect_square(ax2)\n",
    "\n",
    "e4e.save_fig(10)"
   ]
  },
  {
   "cell_type": "code",
   "execution_count": null,
   "metadata": {},
   "outputs": [],
   "source": [
    "1.64 + 0.84"
   ]
  },
  {
   "cell_type": "code",
   "execution_count": null,
   "metadata": {},
   "outputs": [],
   "source": [
    "# Listing 2.7 A/B test design with power analysis\n",
    "def ab_test_design_2(sd_1_delta, prac_sig):\n",
    "    num_individual_measurements = (2.48 * sd_1_delta / prac_sig) ** 2\n",
    "    return np.ceil(num_individual_measurements)"
   ]
  },
  {
   "cell_type": "code",
   "execution_count": null,
   "metadata": {},
   "outputs": [],
   "source": [
    "np.random.seed(17)\n",
    "sd_1_asdaq = np.array([trading_system(\"ASDAQ\") for _ in range(100)]).std()\n",
    "sd_1_byse = sd_1_asdaq\n",
    "sd_1_delta = np.sqrt(sd_1_asdaq**2 + sd_1_byse**2)\n",
    "prac_sig = 1.0\n",
    "ab_test_design_2(sd_1_delta, prac_sig)"
   ]
  },
  {
   "cell_type": "markdown",
   "metadata": {},
   "source": [
    "### 2.3.3\tMeasure and analyze"
   ]
  },
  {
   "cell_type": "code",
   "execution_count": null,
   "metadata": {},
   "outputs": [],
   "source": [
    "# Listing 2.8 Measure stage\n",
    "def measure(min_individual_measurements):\n",
    "    ind_asdaq = []\n",
    "    ind_byse = []\n",
    "    while (\n",
    "        len(ind_asdaq) < min_individual_measurements\n",
    "        and len(ind_byse) < min_individual_measurements\n",
    "    ):\n",
    "        if np.random.randint(2) == 0:\n",
    "            ind_asdaq.append(trading_system(\"ASDAQ\"))\n",
    "        else:\n",
    "            ind_byse.append(trading_system(\"BYSE\"))\n",
    "    return np.array(ind_asdaq), np.array(ind_byse)"
   ]
  },
  {
   "cell_type": "code",
   "execution_count": null,
   "metadata": {},
   "outputs": [],
   "source": [
    "# Listing 2.9 Analyze stage\n",
    "def analyze(ind_asdaq, ind_byse):\n",
    "    agg_asdaq = ind_asdaq.mean()\n",
    "    se_asdaq = ind_asdaq.std() / np.sqrt(len(ind_asdaq))\n",
    "    agg_byse = ind_byse.mean()\n",
    "    se_byse = ind_byse.std() / np.sqrt(len(ind_byse))\n",
    "\n",
    "    delta = agg_byse - agg_asdaq\n",
    "    se_delta = np.sqrt(se_asdaq**2 + se_byse**2)\n",
    "\n",
    "    z = delta / se_delta\n",
    "    return z"
   ]
  },
  {
   "cell_type": "code",
   "execution_count": null,
   "metadata": {},
   "outputs": [],
   "source": [
    "np.random.seed(17)\n",
    "sd_1_asdaq = np.array([trading_system(\"ASDAQ\") for _ in range(100)]).std()\n",
    "sd_1_byse = sd_1_asdaq\n",
    "sd_1_delta = np.sqrt(sd_1_asdaq**2 + sd_1_byse**2)\n",
    "PS = 1.0\n",
    "ab_test_design_2(sd_1_delta, PS)"
   ]
  },
  {
   "cell_type": "code",
   "execution_count": null,
   "metadata": {},
   "outputs": [],
   "source": [
    "np.random.seed(17)\n",
    "ind_asdaq, ind_byse = measure(16)"
   ]
  },
  {
   "cell_type": "code",
   "execution_count": null,
   "metadata": {},
   "outputs": [],
   "source": [
    "ind_byse.mean() - ind_asdaq.mean()"
   ]
  },
  {
   "cell_type": "code",
   "execution_count": null,
   "metadata": {},
   "outputs": [],
   "source": [
    "analyze(ind_asdaq, ind_byse)"
   ]
  },
  {
   "cell_type": "code",
   "execution_count": null,
   "metadata": {},
   "outputs": [],
   "source": []
  },
  {
   "cell_type": "code",
   "execution_count": null,
   "metadata": {},
   "outputs": [],
   "source": []
  }
 ],
 "metadata": {
  "language_info": {
   "name": "python",
   "pygments_lexer": "ipython3"
  }
 },
 "nbformat": 4,
 "nbformat_minor": 2
}
