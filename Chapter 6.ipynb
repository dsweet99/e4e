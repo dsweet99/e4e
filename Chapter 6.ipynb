{
 "cells": [
  {
   "cell_type": "markdown",
   "metadata": {},
   "source": [
    "# Chapter 6\n",
    "# Bayesian optimization: Automate continuous parameter tuning"
   ]
  },
  {
   "cell_type": "code",
   "execution_count": null,
   "metadata": {},
   "outputs": [],
   "source": [
    "import numpy as np\n",
    "import scipy\n",
    "import scipy.stats\n",
    "import matplotlib as mpl\n",
    "import matplotlib.pyplot as plt\n",
    "from e4e import E4E\n",
    "\n",
    "e4e = E4E(chapter=6)"
   ]
  },
  {
   "cell_type": "markdown",
   "metadata": {},
   "source": [
    "# 6.1 Optimize a single compiler parameter, a visual explanation"
   ]
  },
  {
   "cell_type": "code",
   "execution_count": null,
   "metadata": {},
   "outputs": [],
   "source": [
    "# Listing 6.1 JIT CPU time simulator\n",
    "def jit_plus_server(parameters):\n",
    "    x = np.array(parameters)\n",
    "    d = len(x)\n",
    "    x1 = x - 0.15*np.ones(shape=(d,))\n",
    "    x2 = x - 0.85*np.ones(shape=(d,))\n",
    "    cpu_time = 2 - np.exp(-10*x1**2) - 0.5*np.exp(-10*x2**2)\n",
    "    return cpu_time.mean() + .005*np.random.normal()"
   ]
  },
  {
   "cell_type": "markdown",
   "metadata": {},
   "source": [
    "### 6.1.2\tRun the initial experiment"
   ]
  },
  {
   "cell_type": "code",
   "execution_count": null,
   "metadata": {},
   "outputs": [],
   "source": [
    "np.random.seed(17)\n",
    "jit_plus_server([0.5])"
   ]
  },
  {
   "cell_type": "markdown",
   "metadata": {},
   "source": [
    "### 6.1.3\tAnalyze: Model the response surface"
   ]
  },
  {
   "cell_type": "code",
   "execution_count": null,
   "metadata": {},
   "outputs": [],
   "source": [
    "class GPR_viz: # same as GPR4\n",
    "    def __init__(self, parameters, measurements, sigma):        \n",
    "        self.x = parameters\n",
    "        self.y = np.array(measurements)\n",
    "        self.sigma = sigma\n",
    "        \n",
    "        self.mean_y = self.y.mean()        \n",
    "        if len(self.y) > 1:\n",
    "            self.std_y = self.y.std()\n",
    "        else:\n",
    "            self.std_y = 1\n",
    "            \n",
    "        self.y -= self.mean_y\n",
    "        \n",
    "    def kernel(self, x1, x2):\n",
    "        distance_squared = ((x1-x2)**2).sum()\n",
    "        return np.exp( -distance_squared/(2*self.sigma**2) )\n",
    "\n",
    "    def estimate(self, query_parameter):\n",
    "        kernels_x_query = np.array([\n",
    "            self.kernel(x, query_parameter)\n",
    "            for x in self.x\n",
    "        ])\n",
    "        kernels_x_x = np.array([\n",
    "            [\n",
    "                self.kernel(x1, x2)\n",
    "                for x1 in self.x\n",
    "            ]\n",
    "            for x2 in self.x\n",
    "        ])\n",
    "\n",
    "        weights = kernels_x_query.T @ np.linalg.pinv(kernels_x_x)\n",
    "        expectation = self.mean_y + weights @ self.y\n",
    "        uncertainty_squared = 1 - weights @ kernels_x_query\n",
    "        return expectation, self.std_y*np.sqrt(np.maximum(0, uncertainty_squared))"
   ]
  },
  {
   "cell_type": "code",
   "execution_count": null,
   "metadata": {},
   "outputs": [],
   "source": [
    "def plot_example_gpr(GPR, ax, x, y, err_bars=False, bottom_trace=False):\n",
    "    x = np.array(x)\n",
    "    y = np.array(y)\n",
    "    gpr = GPR(x, y, sigma=0.15)\n",
    "    x_hats = np.linspace(0,1,100)\n",
    "    y_hats = []\n",
    "    sigma_y_hats = []\n",
    "    for x_hat in x_hats:\n",
    "        ret = gpr.estimate(x_hat)\n",
    "        try:\n",
    "            y_hat, sigma_y_hat = ret\n",
    "        except:\n",
    "            y_hat = ret\n",
    "            sigma_y_hat = 0\n",
    "        y_hats.append(y_hat)\n",
    "        sigma_y_hats.append(sigma_y_hat)\n",
    "\n",
    "    y_hats = np.array(y_hats)\n",
    "    sigma_y_hats = np.array(sigma_y_hats)\n",
    "    \n",
    "    if err_bars:\n",
    "        ax.fill_between(x_hats.flatten(),\n",
    "                 y_hats - sigma_y_hats,\n",
    "                 y_hats + sigma_y_hats,\n",
    "                 color=e4e.color_4,\n",
    "                 # alpha=alpha_err,\n",
    "                 linewidth=1);\n",
    "\n",
    "        \n",
    "    ax.plot(x, y, 'o', color=e4e.color_1, markersize=5);\n",
    "    ax.plot(x_hats, y_hats, ':', color=e4e.color_2);\n",
    "    \n",
    "    if bottom_trace:\n",
    "        y_bots = y_hats - sigma_y_hats\n",
    "        ax.plot(x_hats, y_bots, color=e4e.color_1, linewidth=2);\n",
    "    \n",
    "    # i = np.where(y_hat == y_hat.min())[0]\n",
    "    \n",
    "    # ax.axis([-.05, 1.05, -.1, 2])\n",
    "    # ax.set_xticklabels([])\n",
    "    # ax.set_yticklabels([])"
   ]
  },
  {
   "cell_type": "code",
   "execution_count": null,
   "metadata": {},
   "outputs": [],
   "source": [
    "np.random.seed(17)\n",
    "parameter0 = 0.5\n",
    "cpu_time0 = jit_plus_server([parameter0])\n",
    "\n",
    "print (parameter0, cpu_time0)\n",
    "\n",
    "ax = plt.gca()\n",
    "plot_example_gpr(GPR_viz, ax, [parameter0], [cpu_time0], err_bars=True)\n",
    "plt.xlabel('parameter')\n",
    "plt.ylabel('CPU time')\n",
    "e4e.save_fig(3)"
   ]
  },
  {
   "cell_type": "markdown",
   "metadata": {},
   "source": [
    "### 6.1.4\tDesign: Select the parameter value to measure next"
   ]
  },
  {
   "cell_type": "code",
   "execution_count": null,
   "metadata": {},
   "outputs": [],
   "source": [
    "np.random.seed(17)\n",
    "parameter1 = 0\n",
    "cpu_time1 = jit_plus_server([parameter1])\n",
    "print (cpu_time1)"
   ]
  },
  {
   "cell_type": "code",
   "execution_count": null,
   "metadata": {},
   "outputs": [],
   "source": [
    "ax = plt.gca()\n",
    "plot_example_gpr(\n",
    "    GPR_viz,\n",
    "    ax,\n",
    "    np.array([parameter0, parameter1]),\n",
    "    np.array([cpu_time0, cpu_time1]),\n",
    "    err_bars=True\n",
    ")\n",
    "plt.xlabel('parameter')\n",
    "plt.ylabel('CPU time')\n",
    "e4e.save_fig(4)"
   ]
  },
  {
   "cell_type": "markdown",
   "metadata": {},
   "source": [
    "### 6.1.5\tDesign: Balance exploration with exploitation"
   ]
  },
  {
   "cell_type": "code",
   "execution_count": null,
   "metadata": {},
   "outputs": [],
   "source": [
    "ax = plt.gca()\n",
    "plot_example_gpr(\n",
    "    GPR_viz,\n",
    "    ax,\n",
    "    np.array([parameter0, parameter1]),\n",
    "    np.array([cpu_time0, cpu_time1]),\n",
    "\n",
    "    err_bars=True,\n",
    ")\n",
    "plt.xlabel('parameter')\n",
    "plt.ylabel('CPU time')\n",
    "\n",
    "e4e.vertical_line(0)\n",
    "e4e.vertical_line(1)\n",
    "\n",
    "\n",
    "plt.annotate(\"minimize\\nCPU time\", xy=[0, 1.47],\n",
    "             xytext=[.05, 1.5],\n",
    "             arrowprops=e4e.arrow_props\n",
    "            )\n",
    "\n",
    "plt.annotate(\"maximize\\nmodel\\nuncertainty\", xy=[1, 1.27],\n",
    "             xytext=[.7, 1.2],\n",
    "             arrowprops=e4e.arrow_props\n",
    "            )\n",
    "\n",
    "e4e.save_fig(6)"
   ]
  },
  {
   "cell_type": "code",
   "execution_count": null,
   "metadata": {},
   "outputs": [],
   "source": [
    "ax = plt.gca()\n",
    "plot_example_gpr(\n",
    "    GPR_viz,\n",
    "    ax,\n",
    "    np.array([.5, 0]),\n",
    "    np.array([1.56, 1.20]),\n",
    "    err_bars=True,\n",
    "    bottom_trace=True\n",
    ")\n",
    "plt.xlabel('parameter')\n",
    "plt.ylabel('CPU time')\n",
    "\n",
    "\n",
    "e4e.vertical_line(.1111111)\n",
    "\n",
    "plt.annotate(\"balance\\nCPU time and\\nmodel uncertainty\", xy=[.111111 + .005, 1.35],\n",
    "             xytext=[.4, 1.2],\n",
    "             arrowprops=e4e.arrow_props\n",
    "            )\n",
    "e4e.save_fig(7)"
   ]
  },
  {
   "cell_type": "code",
   "execution_count": null,
   "metadata": {},
   "outputs": [],
   "source": [
    "parameters = np.array([0.5, 0, 0.111, .2020, 1.0, .1515])\n",
    "measurements = [1.56, 1.20, 1.0036, 1.02231, 1.598, .99696]\n",
    "gpr = GPR_viz(parameters, measurements, sigma=.15)\n",
    "x_hats = np.linspace(0,1,100)\n",
    "y_hats = np.array([gpr.estimate(x_hat) for x_hat in x_hats])\n",
    "lcb = y_hats[:,0] - y_hats[:,1]\n",
    "i = np.where(lcb == lcb.min())[0]\n",
    "print (x_hats[i], jit_plus_server(x_hats[i]))"
   ]
  },
  {
   "cell_type": "code",
   "execution_count": null,
   "metadata": {},
   "outputs": [],
   "source": [
    "\n",
    "fig, ((ax11, ax12), (ax21, ax22)) = plt.subplots(2,2)\n",
    "\n",
    "plot_example_gpr(\n",
    "    GPR_viz,\n",
    "    ax11,\n",
    "    [.5, 0, .11],\n",
    "    [1.56, 1.20, 1.0036],\n",
    "    err_bars=True,\n",
    "    bottom_trace=True\n",
    ")\n",
    "\n",
    "plot_example_gpr(\n",
    "        GPR_viz,\n",
    "    ax12,\n",
    "    [.5, 0, 0.111, .2020],\n",
    "    [1.56, 1.20, 1.0036, 1.02231],\n",
    "    err_bars=True,\n",
    "    bottom_trace=True\n",
    ")\n",
    "\n",
    "plot_example_gpr(\n",
    "        GPR_viz,\n",
    "    ax21,\n",
    "    [.5, 0, 0.111, .2020, 1.0],\n",
    "    [1.56, 1.20, 1.0036, 1.02231, 1.598],\n",
    "    err_bars=True,\n",
    "    bottom_trace=True\n",
    ")\n",
    "\n",
    "plot_example_gpr(\n",
    "        GPR_viz,\n",
    "    ax22,\n",
    "    [.5, 0, 0.111, .2020, 1.0, .1515],\n",
    "    [1.56, 1.20, 1.0036, 1.02231, 1.598, .99696],\n",
    "    err_bars=True,\n",
    "    bottom_trace=True\n",
    ")\n",
    "\n",
    "c = list(ax22.axis())\n",
    "c[2] -= .1\n",
    "ax11.axis(c)\n",
    "ax12.axis(c)\n",
    "ax21.axis(c)\n",
    "ax22.axis(c)\n",
    "\n",
    "\n",
    "ax11.text(0,1.55,'(a)')\n",
    "ax12.text(0,1.55,'(b)')\n",
    "ax21.text(0,1.55,'(c)')\n",
    "ax22.text(0,1.55,'(d)')\n",
    "\n",
    "\n",
    "\n",
    "e4e.save_fig(8)"
   ]
  },
  {
   "cell_type": "markdown",
   "metadata": {},
   "source": [
    "# 6.2\tModel the response surface with gaussian process regression"
   ]
  },
  {
   "cell_type": "code",
   "execution_count": null,
   "metadata": {},
   "outputs": [],
   "source": [
    "(1.54 + 1.21)/2 "
   ]
  },
  {
   "cell_type": "code",
   "execution_count": null,
   "metadata": {},
   "outputs": [],
   "source": [
    "ax = plt.gca()\n",
    "plot_example_gpr(\n",
    "    GPR_viz,\n",
    "    ax,\n",
    "    [.5, 0],\n",
    "    [1.56, 1.21],\n",
    "    err_bars=True\n",
    ")\n",
    "plt.xlabel('parameter')\n",
    "plt.ylabel('CPU time')\n",
    "plt.legend(['_nolegend_', 'expected CPU time', 'uncertainty in estimate'])\n",
    "e4e.save_fig(9)"
   ]
  },
  {
   "cell_type": "code",
   "execution_count": null,
   "metadata": {},
   "outputs": [],
   "source": [
    ".8*1.52 + .2*1.21"
   ]
  },
  {
   "cell_type": "code",
   "execution_count": null,
   "metadata": {},
   "outputs": [],
   "source": [
    "50*1.52 + 50*1.21"
   ]
  },
  {
   "cell_type": "markdown",
   "metadata": {},
   "source": [
    "### 6.2.1\tEstimate the expected CPU time"
   ]
  },
  {
   "cell_type": "code",
   "execution_count": null,
   "metadata": {},
   "outputs": [],
   "source": [
    "# Listing 6.2 Beginnings of gaussian process regression\n",
    "class GPR1:\n",
    "    def __init__(self, parameters, measurements):        \n",
    "        self.x = parameters\n",
    "        self.y = np.array(measurements)\n",
    "        self.mean_y = self.y.mean()\n",
    "        \n",
    "    def estimate(self, query_parameter):\n",
    "        return self.mean_y"
   ]
  },
  {
   "cell_type": "markdown",
   "metadata": {},
   "source": [
    "#### WEIGHT NEARER MEASUREMENTS MORE"
   ]
  },
  {
   "cell_type": "code",
   "execution_count": null,
   "metadata": {},
   "outputs": [],
   "source": [
    "d = np.linspace(0, 1, 100)\n",
    "w = np.exp(-d**2 / .1)\n",
    "plt.plot(d, w, '--', color=e4e.color_1);\n",
    "plt.xlabel('distance = np.abs(x - parameter)')\n",
    "plt.ylabel('weight')\n",
    "e4e.save_fig(10)"
   ]
  },
  {
   "cell_type": "code",
   "execution_count": null,
   "metadata": {},
   "outputs": [],
   "source": [
    "# Listing 6.3 GPR with a weighted average\n",
    "class GPR2:\n",
    "    def __init__(self, parameters, measurements, sigma):        \n",
    "        self.x = parameters\n",
    "        self.y = np.array(measurements)\n",
    "        self.sigma = sigma\n",
    "        \n",
    "        self.mean_y = self.y.mean()\n",
    "        self.y -= self.mean_y\n",
    "        \n",
    "    def kernel(self, x1, x2):\n",
    "        distance_squared = ((x1-x2)**2).sum()\n",
    "        return np.exp( -distance_squared/(2*self.sigma**2) )\n",
    "\n",
    "    def estimate(self, query_parameter):\n",
    "        weights = [\n",
    "            self.kernel(x, query_parameter)\n",
    "            for x in self.x\n",
    "        ]\n",
    "        weights = np.array(weights)\n",
    "        weights = weights / weights.sum()\n",
    "        return self.mean_y + weights @ self.y"
   ]
  },
  {
   "cell_type": "code",
   "execution_count": null,
   "metadata": {},
   "outputs": [],
   "source": [
    "parameters = np.array([0.5, 0.0])\n",
    "measurements = [1.52, 1.21]\n",
    "gpr2 = GPR2(parameters, measurements, sigma=0.25)\n",
    "print (gpr2.estimate(0.25))\n",
    "print (gpr2.estimate(0.4))"
   ]
  },
  {
   "cell_type": "markdown",
   "metadata": {},
   "source": [
    "#### DON’T OVERWEIGHT CLUSTERED MEASUREMENTS"
   ]
  },
  {
   "cell_type": "code",
   "execution_count": null,
   "metadata": {},
   "outputs": [],
   "source": [
    "parameters = np.array([0.5, 0.0, 0.4])\n",
    "measurements = [1.52, 1.21, gpr2.estimate(0.4)]\n",
    "gpr2a = GPR2(parameters, measurements, sigma=0.25)\n",
    "print (gpr2a.estimate(0.25))\n",
    "plt.plot(parameters, measurements, 'o', color=e4e.color_1);\n",
    "plt.plot([0.25], [gpr2a.estimate(0.25)], '^', color=e4e.color_2)\n",
    "plt.plot([0.25], [gpr2.estimate(0.25)], 'x', color=e4e.color_2)\n",
    "plt.legend(['measurements', 'distance weights', 'distance weights\\nand cluster down-weighting'])\n",
    "e4e.save_fig(11)"
   ]
  },
  {
   "cell_type": "code",
   "execution_count": null,
   "metadata": {},
   "outputs": [],
   "source": [
    "# Listing 6.4 Full gaussian process regression\n",
    "class GPR3:\n",
    "    def __init__(self, parameters, measurements, sigma):        \n",
    "        self.x = parameters\n",
    "        self.y = np.array(measurements)\n",
    "        self.sigma = sigma\n",
    "        \n",
    "        self.mean_y = self.y.mean()\n",
    "        self.y -= self.mean_y\n",
    "        \n",
    "    def kernel(self, x1, x2):\n",
    "        distance_squared = ((x1-x2)**2).sum()\n",
    "        return np.exp( -distance_squared/(2*self.sigma**2) )\n",
    "\n",
    "    def estimate(self, query_parameter):\n",
    "        kernels_x_query = np.array([\n",
    "            self.kernel(x, query_parameter)\n",
    "            for x in self.x\n",
    "        ])\n",
    "        kernels_x_x = np.array([\n",
    "            [\n",
    "                self.kernel(x1, x2)\n",
    "                for x1 in self.x\n",
    "            ]\n",
    "            for x2 in self.x\n",
    "        ])\n",
    "\n",
    "        weights = kernels_x_query.T @ np.linalg.inv(kernels_x_x)\n",
    "        return self.mean_y + weights @ self.y"
   ]
  },
  {
   "cell_type": "code",
   "execution_count": null,
   "metadata": {},
   "outputs": [],
   "source": [
    "parameters = np.array([0.5, 0.0])\n",
    "measurements = [1.52, 1.21]\n",
    "\n",
    "gpr3 = GPR3(parameters, measurements, sigma=0.15)\n",
    "x_hats = np.linspace(0,1,100)\n",
    "y_hats = [gpr3.estimate(x_hat) for x_hat in x_hats]\n",
    "\n",
    "plt.plot(parameters, measurements, 'o', color=e4e.color_1, markersize=5);\n",
    "plt.plot(x_hats, y_hats, ':', color=e4e.color_2);\n",
    "plt.xlabel('parameter')\n",
    "plt.ylabel('CPU time')\n",
    "e4e.save_fig(12)"
   ]
  },
  {
   "cell_type": "code",
   "execution_count": null,
   "metadata": {},
   "outputs": [],
   "source": [
    "def plot_gpr_ex(GPR, err_bars):\n",
    "    fig, ax = plt.subplots(2,2)\n",
    "\n",
    "    np.random.seed(18)\n",
    "    x = np.random.uniform(size=(3,))\n",
    "    y = 1 - (x-0.4)**2\n",
    "    plot_example_gpr(GPR, ax[0][0], x, y, err_bars)\n",
    "\n",
    "    x = np.random.uniform(size=(4,))\n",
    "    y = (x-0.7)**2 + 2*x**3\n",
    "    plot_example_gpr(GPR, ax[0][1], x, y, err_bars)\n",
    "\n",
    "    x = np.random.uniform(size=(4,))\n",
    "    y = 1 - (x-0.3)**2 + .25*np.sin(10*x)\n",
    "    plot_example_gpr(GPR, ax[1][0], x, y, err_bars)\n",
    "\n",
    "    x = np.random.uniform(size=(5,))\n",
    "    y = 1 - (x-0.9)**2 + .1*np.sin(10*(x-0.2))\n",
    "    plot_example_gpr(GPR, ax[1][1], x, y, err_bars)\n",
    "\n",
    "    ax[1][1].legend(['measurements', 'GPR estimate'], loc='lower right')\n",
    "    ax[1][0].set_xlabel('parameter')\n",
    "    ax[1][1].set_xlabel('parameter')\n",
    "    ax[1][0].set_ylabel('business metric')\n",
    "    ax[0][0].set_ylabel('business metric')\n",
    "\n",
    "    if err_bars:\n",
    "        e4e.save_fig(16)\n",
    "    else:\n",
    "        e4e.save_fig(13)"
   ]
  },
  {
   "cell_type": "code",
   "execution_count": null,
   "metadata": {},
   "outputs": [],
   "source": [
    "plot_gpr_ex(GPR3, err_bars=False)"
   ]
  },
  {
   "cell_type": "markdown",
   "metadata": {},
   "source": [
    "#### COMPARE TO RSM"
   ]
  },
  {
   "cell_type": "markdown",
   "metadata": {},
   "source": [
    "#### REVIEW"
   ]
  },
  {
   "cell_type": "markdown",
   "metadata": {},
   "source": [
    "### 6.2.2\tEstimate uncertainty with GPR"
   ]
  },
  {
   "cell_type": "code",
   "execution_count": null,
   "metadata": {},
   "outputs": [],
   "source": [
    "d = np.linspace(0, 1, 100)\n",
    "w = np.exp(-d**2 / 0.1)\n",
    "plt.plot(d, w, '--', color=e4e.color_1);\n",
    "plt.xlabel('distance from a measurement')\n",
    "plt.ylabel('certainty in estimate')\n",
    "e4e.save_fig(14)"
   ]
  },
  {
   "cell_type": "code",
   "execution_count": null,
   "metadata": {},
   "outputs": [],
   "source": [
    "# Listing 6.5 Complete gaussian process regression\n",
    "class GPR4:\n",
    "    def __init__(self, parameters, measurements, sigma):        \n",
    "        self.x = parameters\n",
    "        self.y = np.array(measurements)\n",
    "        self.sigma = sigma\n",
    "        \n",
    "        self.mean_y = self.y.mean()        \n",
    "        if len(self.y) > 1:\n",
    "            self.std_y = self.y.std()\n",
    "        else:\n",
    "            self.std_y = 1\n",
    "            \n",
    "        self.y -= self.mean_y\n",
    "        \n",
    "    def kernel(self, x1, x2):\n",
    "        distance_squared = ((x1-x2)**2).sum()\n",
    "        return np.exp( -distance_squared/(2*self.sigma**2) )\n",
    "\n",
    "    def estimate(self, query_parameter):\n",
    "        kernels_x_query = np.array([\n",
    "            self.kernel(x, query_parameter)\n",
    "            for x in self.x\n",
    "        ])\n",
    "        kernels_x_x = np.array([\n",
    "            [\n",
    "                self.kernel(x1, x2)\n",
    "                for x1 in self.x\n",
    "            ]\n",
    "            for x2 in self.x\n",
    "        ])\n",
    "\n",
    "        weights = kernels_x_query.T @ np.linalg.pinv(kernels_x_x)\n",
    "        expectation = self.mean_y + weights @ self.y\n",
    "        uncertainty_squared = 1 - weights @ kernels_x_query\n",
    "        uncertainty = np.sqrt(uncertainty_squared)\n",
    "        return expectation, self.std_y*uncertainty"
   ]
  },
  {
   "cell_type": "code",
   "execution_count": null,
   "metadata": {},
   "outputs": [],
   "source": [
    "parameters = np.array([0.5, 0.0])\n",
    "measurements = [1.52, 1.21]\n",
    "\n",
    "ax = plt.gca()\n",
    "plot_example_gpr(\n",
    "    GPR4,\n",
    "    ax,\n",
    "    parameters,\n",
    "    measurements,\n",
    "    err_bars=True\n",
    ")\n",
    "\n",
    "ax.set_xlabel('parameter')\n",
    "ax.set_ylabel('CPU time')\n",
    "ax.legend(['_nolegend_', 'expected CPU time', 'uncertainty in estimate'])\n",
    "\n",
    "\n",
    "e4e.save_fig(15)"
   ]
  },
  {
   "cell_type": "code",
   "execution_count": null,
   "metadata": {},
   "outputs": [],
   "source": [
    "plot_gpr_ex(GPR4, err_bars=True)"
   ]
  },
  {
   "cell_type": "markdown",
   "metadata": {},
   "source": [
    "## 6.3\tOptimize over an acquisition function"
   ]
  },
  {
   "cell_type": "code",
   "execution_count": null,
   "metadata": {},
   "outputs": [],
   "source": [
    "parameters = [0.5, 0.0]\n",
    "measurements = [1.52, 1.21]\n",
    "\n",
    "\n",
    "ax = plt.gca()\n",
    "plot_example_gpr(\n",
    "    GPR_viz,\n",
    "    ax,\n",
    "    parameters,\n",
    "    measurements,\n",
    "    err_bars=True,\n",
    "    bottom_trace=True\n",
    ")\n",
    "plt.xlabel('parameter')\n",
    "plt.ylabel('CPU time')\n",
    "\n",
    "\n",
    "e4e.vertical_line(.111111)\n",
    "\n",
    "plt.annotate(\"design of next experiment\", xy=[0.111111 + 0.005, 1.35],\n",
    "             xytext=[0.4, 1.2],\n",
    "             arrowprops=e4e.arrow_props\n",
    "            )\n",
    "e4e.save_fig(18)"
   ]
  },
  {
   "cell_type": "markdown",
   "metadata": {},
   "source": [
    "### 6.3.1\tMinimize the acquisition function"
   ]
  },
  {
   "cell_type": "code",
   "execution_count": null,
   "metadata": {},
   "outputs": [],
   "source": [
    "parameters = np.array([0.5, 0.0])\n",
    "measurements = [1.52, 1.21]\n",
    "\n",
    "gpr4 = GPR4(parameters, measurements, sigma=0.15)\n",
    "x_hats = np.linspace(0,1,100)\n",
    "y_hats, sigma_y_hats = zip(*[gpr4.estimate(x_hat) for x_hat in x_hats])\n",
    "k = 1\n",
    "lcb = np.array(y_hats) - k*np.array(sigma_y_hats)\n",
    "i = np.where(lcb == lcb.min())\n",
    "print (x_hats[i])"
   ]
  },
  {
   "cell_type": "markdown",
   "metadata": {},
   "source": [
    "## 6.4\tOptimize all seven compiler parameters"
   ]
  },
  {
   "cell_type": "markdown",
   "metadata": {},
   "source": [
    "### 6.4.1\tRandom search"
   ]
  },
  {
   "cell_type": "code",
   "execution_count": null,
   "metadata": {},
   "outputs": [],
   "source": [
    "# Listing 6.6 Random search\n",
    "def evaluate(gpr, x):\n",
    "    x = np.mod(x, 1)\n",
    "    y, sigma_y = gpr.estimate(x)\n",
    "    lcb = y - sigma_y\n",
    "    return x, lcb\n",
    "    \n",
    "def random_search(gpr, num_parameters, num_iterations=1000):\n",
    "    step_size = 0.1\n",
    "    x_current = np.random.normal(size=num_parameters)\n",
    "    x_current, lcb_current = evaluate(gpr, x_current)\n",
    "    trace = []\n",
    "    for _ in range(num_iterations):\n",
    "        x_test = (\n",
    "            x_current\n",
    "            + step_size*np.random.normal(size=num_parameters)\n",
    "        )\n",
    "        x_test, lcb_test = evaluate(gpr, x_test)\n",
    "        if lcb_test < lcb_current:\n",
    "            lcb_current = lcb_test\n",
    "            x_current = x_test\n",
    "        trace.append( lcb_current )\n",
    "    return x_current, np.array(trace)"
   ]
  },
  {
   "cell_type": "code",
   "execution_count": null,
   "metadata": {},
   "outputs": [],
   "source": [
    "np.random.seed(17)\n",
    "parameters = [ np.array([0.5]), np.array([0.0]) ]\n",
    "measurements = [1.52, 1.21]\n",
    "\n",
    "gpr4 = GPR4(parameters, measurements, sigma=0.15)\n",
    "x_opt, trace = random_search(gpr4, 1)\n",
    "print (x_opt)"
   ]
  },
  {
   "cell_type": "code",
   "execution_count": null,
   "metadata": {},
   "outputs": [],
   "source": [
    "plt.plot(trace, '.--', color=e4e.color_1);\n",
    "plt.xlabel('iteration')\n",
    "plt.ylabel('lcb_current')\n",
    "e4e.save_fig(18)"
   ]
  },
  {
   "cell_type": "markdown",
   "metadata": {},
   "source": [
    "### 6.4.2\tA complete Bayesian optimization"
   ]
  },
  {
   "cell_type": "code",
   "execution_count": null,
   "metadata": {},
   "outputs": [],
   "source": [
    "# Listing 6.7 Bayesian optimizer\n",
    "class BayesianOptimizer:\n",
    "    def __init__(self, num_parameters):\n",
    "        self.num_parameters = num_parameters\n",
    "        self.parameters = []\n",
    "        self.measurements = []\n",
    "        self.x0 = np.array([0.5]*num_parameters)\n",
    "            \n",
    "    def ask(self):\n",
    "        if len(self.measurements)==0:\n",
    "            return self.x0\n",
    "        return self.new_parameter()\n",
    "        \n",
    "    def new_parameter(self):\n",
    "        gpr = GPR4(\n",
    "            self.parameters,\n",
    "            self.measurements,\n",
    "            sigma=0.15,\n",
    "        )\n",
    "        return random_search(gpr, self.num_parameters)[0]\n",
    "\n",
    "    def tell(self, parameter, measurement):\n",
    "        self.parameters.append(parameter)\n",
    "        self.measurements.append(measurement)"
   ]
  },
  {
   "cell_type": "code",
   "execution_count": null,
   "metadata": {},
   "outputs": [],
   "source": [
    "np.random.seed(7)\n",
    "bo = BayesianOptimizer(num_parameters=7)\n",
    "trace = []\n",
    "cpu_time = None\n",
    "i = 0"
   ]
  },
  {
   "cell_type": "code",
   "execution_count": null,
   "metadata": {},
   "outputs": [],
   "source": [
    "bo = BayesianOptimizer(num_parameters=7)\n",
    "trace = []\n",
    "for _ in range(48):\n",
    "    parameter = bo.ask()\n",
    "    cpu_time = jit_plus_server(parameter)\n",
    "    bo.tell(parameter, cpu_time)\n",
    "    trace.append(cpu_time)"
   ]
  },
  {
   "cell_type": "code",
   "execution_count": null,
   "metadata": {},
   "outputs": [],
   "source": [
    "plt.plot(trace, '.--', color=e4e.color_1);\n",
    "plt.xlabel('iteration')\n",
    "plt.ylabel('measured CPU time')\n",
    "e4e.save_fig(20)"
   ]
  },
  {
   "cell_type": "markdown",
   "metadata": {},
   "source": [
    "# 6.5\tSummary"
   ]
  }
 ],
 "metadata": {
  "language_info": {
   "name": "python",
   "pygments_lexer": "ipython3"
  }
 },
 "nbformat": 4,
 "nbformat_minor": 2
}
