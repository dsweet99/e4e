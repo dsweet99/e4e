{
 "cells": [
  {
   "cell_type": "markdown",
   "metadata": {},
   "source": [
    "# Appendix A\n",
    "# Linear regression and the normal equation"
   ]
  },
  {
   "cell_type": "code",
   "execution_count": null,
   "metadata": {},
   "outputs": [],
   "source": [
    "import numpy as np\n",
    "import scipy\n",
    "import scipy.stats\n",
    "import matplotlib as mpl\n",
    "import matplotlib.pyplot as plt\n",
    "from e4e import E4E\n",
    "e4e = E4E(chapter=\"a\")"
   ]
  },
  {
   "cell_type": "markdown",
   "metadata": {},
   "source": [
    "## A.1\tUnivariate linear regression"
   ]
  },
  {
   "cell_type": "code",
   "execution_count": null,
   "metadata": {},
   "outputs": [],
   "source": [
    "x = np.array([1, 2, 3, 4])\n",
    "y = np.array([.5, 1.1, 1.4, 2.1])\n",
    "beta = (x*y).sum() / (x**2).sum()\n",
    "print (beta)\n",
    "beta = (x@y) / (x@x)\n",
    "print (beta)"
   ]
  },
  {
   "cell_type": "markdown",
   "metadata": {},
   "source": [
    "## A.2\tMultivariate linear regression"
   ]
  },
  {
   "cell_type": "code",
   "execution_count": null,
   "metadata": {},
   "outputs": [],
   "source": [
    "x = np.array([1, 2, 3, 4])\n",
    "X = np.array([\n",
    "  [1, x[0], x[0]**2],\n",
    "  [1, x[1], x[1]**2],\n",
    "  [1, x[2], x[2]**2],\n",
    "  [1, x[3], x[3]**2]\n",
    "])\n",
    "y = np.array([.5, 1.1, 1.4, 1])\n",
    "beta = np.linalg.inv(X.T @ X) @ (X.T @ y)\n",
    "print (beta)\n",
    "# plt.plot(x,y ,'o--');"
   ]
  },
  {
   "cell_type": "code",
   "execution_count": null,
   "metadata": {},
   "outputs": [],
   "source": []
  }
 ],
 "metadata": {
  "language_info": {
   "name": "python",
   "pygments_lexer": "ipython3"
  }
 },
 "nbformat": 4,
 "nbformat_minor": 2
}
